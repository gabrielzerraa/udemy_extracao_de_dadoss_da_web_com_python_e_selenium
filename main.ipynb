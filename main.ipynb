{
 "cells": [
  {
   "cell_type": "markdown",
   "id": "4732fd41-ecdc-495c-9c0d-d6cd1ce6b134",
   "metadata": {},
   "source": [
    "# Importação das Bibliotecas"
   ]
  },
  {
   "cell_type": "code",
   "execution_count": 2,
   "id": "c93f49fc-6af8-425c-ae35-a01039f1b58d",
   "metadata": {},
   "outputs": [],
   "source": [
    "#!pip install selenium -q\n",
    "#!pip install webdriver-manager -q"
   ]
  },
  {
   "cell_type": "code",
   "execution_count": 176,
   "id": "3a6ff367-594c-43c5-ba17-c75cd1485d14",
   "metadata": {},
   "outputs": [],
   "source": [
    "import pandas as pd\n",
    "from selenium import webdriver\n",
    "from selenium.webdriver.common.by import By\n",
    "from selenium.webdriver.support.ui import Select, WebDriverWait\n",
    "from selenium.webdriver.support import expected_conditions as EC\n",
    "import time\n",
    "\n",
    "# Baixar o driver do chrome\n",
    "from selenium.webdriver.chrome.service import Service \n",
    "from webdriver_manager.chrome import ChromeDriverManager"
   ]
  },
  {
   "cell_type": "markdown",
   "id": "abf5f336-40b9-4745-a8d0-8533354db2e2",
   "metadata": {},
   "source": [
    "# Teste"
   ]
  },
  {
   "cell_type": "code",
   "execution_count": 5,
   "id": "c9e39567-1953-4002-93de-373f4aebca4d",
   "metadata": {},
   "outputs": [],
   "source": [
    "# Drive do Chrome\n",
    "service = Service(ChromeDriverManager().install())\n",
    "driver = webdriver.Chrome(service=service)"
   ]
  },
  {
   "cell_type": "markdown",
   "id": "77f07c66-3d88-4665-b23c-60d09d44774d",
   "metadata": {},
   "source": [
    "# Abrindo uma página com o Navegador"
   ]
  },
  {
   "cell_type": "code",
   "execution_count": 7,
   "id": "e4807c81-e2e4-4e0a-a7d8-cad751c94f37",
   "metadata": {},
   "outputs": [],
   "source": [
    "driver = webdriver.Chrome(service=service)\n",
    "driver.get('https://www.google.com.br/')\n",
    "time.sleep(5)\n",
    "driver.close()"
   ]
  },
  {
   "cell_type": "markdown",
   "id": "c53a1eed-f519-4b12-8a1b-272e05368d97",
   "metadata": {},
   "source": [
    "# Extraindo Dados Através do ID"
   ]
  },
  {
   "cell_type": "code",
   "execution_count": 9,
   "id": "d9bf7e37-1dc7-4d1e-9de3-d67173136195",
   "metadata": {},
   "outputs": [
    {
     "name": "stdout",
     "output_type": "stream",
     "text": [
      "Python\n"
     ]
    }
   ],
   "source": [
    "driver = webdriver.Chrome(service=service)\n",
    "driver.get('https://pt.wikipedia.org/wiki/Python')\n",
    "time.sleep(5)\n",
    "dados = driver.find_element(By.ID, \"firstHeading\").text\n",
    "time.sleep(2)\n",
    "driver.close()\n",
    "print(dados)"
   ]
  },
  {
   "cell_type": "markdown",
   "id": "c63d1507-603a-47af-a362-6d97d9c9f4ba",
   "metadata": {},
   "source": [
    "# Extraindo Dados Através da Classe"
   ]
  },
  {
   "cell_type": "code",
   "execution_count": 11,
   "id": "d5da2767-5a13-4e87-b2b2-92fad8f00d79",
   "metadata": {},
   "outputs": [
    {
     "name": "stdout",
     "output_type": "stream",
     "text": [
      "136,26 136,26 122,02 156,18 8,80 -11,54%\n"
     ]
    }
   ],
   "source": [
    "driver = webdriver.Chrome(service=service)\n",
    "driver.get('https://statusinvest.com.br/fundos-imobiliarios/knri11')\n",
    "driver.implicitly_wait(2)\n",
    "dados = driver.find_element(By.CLASS_NAME, 'value').text\n",
    "dados2 = driver.find_elements(By.CLASS_NAME, 'value')[0].text\n",
    "dados3 = driver.find_elements(By.CLASS_NAME, 'value')[1].text\n",
    "dados4 = driver.find_elements(By.CLASS_NAME, 'value')[2].text\n",
    "dados5 = driver.find_elements(By.CLASS_NAME, 'value')[3].text\n",
    "dados6 = driver.find_elements(By.CLASS_NAME, 'value')[4].text\n",
    "driver.close()\n",
    "print(dados, dados2, dados3, dados4, dados5, dados6)"
   ]
  },
  {
   "cell_type": "markdown",
   "id": "1d74f605-676e-4951-abfa-382ea2aedd5b",
   "metadata": {},
   "source": [
    "# Extraindo Dados Atráveus da TagName"
   ]
  },
  {
   "cell_type": "code",
   "execution_count": 13,
   "id": "4105d87f-7b7d-46a8-afad-f8724fdbc8bc",
   "metadata": {},
   "outputs": [
    {
     "name": "stdout",
     "output_type": "stream",
     "text": [
      "KNRI11 - KINEA RENDA IMOBILIÁRIA  # 02/2025 AH % 01/2025 AH % 12/2024 AH % 11/2024\n",
      "Número cotistas\n",
      "Número cotas emitidas\n",
      "Ativos - (R$)\n",
      "Patrimônio líquido - (R$)\n",
      "Valor patrimonial cota - (R$)\n",
      "Despesas taxa administração - (R$)\n",
      "Despesas agente custodiante - (R$)\n",
      "Rentabilidade efetiva mensal - (R$)\n",
      "Rentabilidade patrimonial - (R$)\n",
      "Dividend Yield TIPO DATA COM PAGAMENTO VALOR\n",
      "RENDIMENTO 28/02/2025 18/03/2025 1,00000000\n",
      "RENDIMENTO 31/01/2025 14/02/2025 1,00000000\n",
      "RENDIMENTO 30/12/2024 15/01/2025 1,00000000\n",
      "RENDIMENTO 29/11/2024 13/12/2024 1,00000000\n",
      "RENDIMENTO 31/10/2024 14/11/2024 1,00000000\n",
      "RENDIMENTO 30/09/2024 14/10/2024 1,00000000\n",
      "RENDIMENTO 30/08/2024 13/09/2024 1,00000000\n",
      "RENDIMENTO 31/07/2024 14/08/2024 1,00000000\n",
      "RENDIMENTO 28/06/2024 12/07/2024 1,00000000\n",
      "RENDIMENTO 31/05/2024 14/06/2024 1,00000000\n",
      "RENDIMENTO 30/04/2024 15/05/2024 1,00000000\n",
      "RENDIMENTO 28/03/2024 12/04/2024 1,00000000\n"
     ]
    }
   ],
   "source": [
    "driver = webdriver.Chrome(service=service)\n",
    "driver.get('https://statusinvest.com.br/fundos-imobiliarios/knri11')\n",
    "driver.implicitly_wait(2)\n",
    "dados = driver.find_element(By.TAG_NAME, 'h1').text\n",
    "dados2 = driver.find_elements(By.TAG_NAME, 'strong')[0].text\n",
    "dados3 = driver.find_elements(By.TAG_NAME, 'table')[1].text\n",
    "dados4 = driver.find_elements(By.TAG_NAME, 'table')[0].text\n",
    "\n",
    "driver.close()\n",
    "print(dados, dados2, dados3, dados4)"
   ]
  },
  {
   "cell_type": "markdown",
   "id": "2899b8af-4bb8-4a61-bad6-6aa80d3bf250",
   "metadata": {},
   "source": [
    "# Extraindo Dados Através dos Name"
   ]
  },
  {
   "cell_type": "code",
   "execution_count": 19,
   "id": "03e67bb7-c295-4b4b-b4b8-5f6e4849b288",
   "metadata": {},
   "outputs": [],
   "source": [
    "driver = webdriver.Chrome(service=service)\n",
    "driver.get('https://www.imdb.com/')\n",
    "driver.implicitly_wait(2)\n",
    "campoBusca = driver.find_elements(By.NAME,'q')[0]\n",
    "campoBusca.send_keys('Titanic')\n",
    "time.sleep(5)\n",
    "driver.close()\n",
    "#print(dados)"
   ]
  },
  {
   "cell_type": "markdown",
   "id": "ae260788-222d-4ac1-927a-77df201e928b",
   "metadata": {},
   "source": [
    "# Extraindo Dados Através do Xpath"
   ]
  },
  {
   "cell_type": "code",
   "execution_count": 29,
   "id": "d22a0529-ae7e-4440-9c22-5ed538f2ca17",
   "metadata": {},
   "outputs": [
    {
     "name": "stdout",
     "output_type": "stream",
     "text": [
      "13/09/2024 1,00000000\n"
     ]
    }
   ],
   "source": [
    "driver = webdriver.Chrome(service=service)\n",
    "driver.get('https://statusinvest.com.br/fundos-imobiliarios/knri11')\n",
    "driver.implicitly_wait(2)\n",
    "dados = driver.find_elements(By.XPATH, '//*[@id=\"earning-section\"]/div[7]/div/div[2]/table/tbody/tr[7]/td[3]')[0].text\n",
    "dados2 = driver.find_elements(By.XPATH, '//*[@id=\"earning-section\"]/div[7]/div/div[2]/table/tbody/tr[1]/td[4]')[0].text\n",
    "\n",
    "driver.close()\n",
    "print(dados, dados2)"
   ]
  },
  {
   "cell_type": "markdown",
   "id": "c67ff10c-ad60-4f29-80b2-7c33a784bf02",
   "metadata": {},
   "source": [
    "# Comandos Úteis"
   ]
  },
  {
   "cell_type": "code",
   "execution_count": 52,
   "id": "3148e4e3-4e7c-4849-8f99-92de2bbe62f8",
   "metadata": {},
   "outputs": [],
   "source": [
    "driver = webdriver.Chrome(service=service)\n",
    "driver.get(\"https://www.imdb.com/title/tt0120338/?ref_=fn_al_tt_1\")\n",
    "driver.implicitly_wait(2)\n",
    "\n",
    "# Maximizar tela\n",
    "driver.maximize_window()\n",
    "time.sleep(5)\n",
    "\n",
    "# Minimizar tela\n",
    "driver.minimize_window()\n",
    "time.sleep(5)\n",
    "driver.maximize_window()\n",
    "\n",
    "# Voltar uma página\n",
    "driver.get(\"https://americanas.com.br/produto/1611315933/iphone-11-apple-64gb-preto-tela-6-1-4g-camera-12mp-ios\")\n",
    "driver.implicitly_wait(2)\n",
    "time.sleep(5)\n",
    "driver.back()\n",
    "time.sleep(5)\n",
    "\n",
    "# Avançar página\n",
    "driver.forward()\n",
    "time.sleep(5)\n",
    "\n",
    "# Atualizar Página\n",
    "driver.refresh()\n",
    "driver.implicitly_wait(2)\n",
    "time.sleep(5)\n",
    "\n",
    "driver.close()\n"
   ]
  },
  {
   "cell_type": "markdown",
   "id": "548436b8-3e86-4183-bf50-f7b80a2d3dbf",
   "metadata": {},
   "source": [
    "# Clicando em Botões"
   ]
  },
  {
   "cell_type": "code",
   "execution_count": 67,
   "id": "2e1a718d-f907-4a07-a02a-e4be6dc26c3a",
   "metadata": {},
   "outputs": [],
   "source": [
    "driver = webdriver.Chrome(service=service)\n",
    "driver.get(\"https://www.americanas.com.br/produto/7461809591/barra-de-chocolate-branco-lacta-com-recheio-ouro-branco-98g\")\n",
    "driver.implicitly_wait(2)\n",
    "driver.maximize_window()\n",
    "time.sleep(5)\n",
    "\n",
    "# Clicar no botão\n",
    "driver.find_elements(By.XPATH, '//*[@id=\"rsyswpsdk\"]/div/main/div[2]/div/div[2]/div/div[1]/div[3]/a')[0].click()\n",
    "time.sleep(5)\n",
    "\n",
    "driver.close()"
   ]
  },
  {
   "cell_type": "code",
   "execution_count": 77,
   "id": "644a19e5-5d45-4c72-9a0a-c2d529689395",
   "metadata": {},
   "outputs": [],
   "source": [
    "driver = webdriver.Chrome(service=service)\n",
    "driver.get('https://www.imdb.com/')\n",
    "driver.implicitly_wait(2)\n",
    "driver.find_elements(By.NAME,'q')[0].send_keys('Ainda Estou Aqui')\n",
    "time.sleep(5)\n",
    "\n",
    "# Clicar no botão\n",
    "driver.find_elements(By.ID, 'suggestion-search-button')[0].click()\n",
    "time.sleep(5)\n",
    "\n",
    "driver.close()"
   ]
  },
  {
   "cell_type": "markdown",
   "id": "241bda3c-a89a-4d86-a9b6-db11576c3d70",
   "metadata": {},
   "source": [
    "# Capturando Atributos dos Elementos"
   ]
  },
  {
   "cell_type": "code",
   "execution_count": 82,
   "id": "901363a7-56cb-4f84-bdb0-127c78c82397",
   "metadata": {},
   "outputs": [
    {
     "name": "stdout",
     "output_type": "stream",
     "text": [
      "https://statusinvest.com.br/img/logo/logo-main.png?v=201\n"
     ]
    }
   ],
   "source": [
    "driver = webdriver.Chrome(service=service)\n",
    "driver.get('https://statusinvest.com.br/fundos-imobiliarios/knri11')\n",
    "driver.implicitly_wait(2)\n",
    "\n",
    "elementoImagem = driver.find_elements(By.CLASS_NAME, 'navbar-brand')[0]\n",
    "elemntoImg = elementoImagem.find_elements(By.TAG_NAME, 'img')[0]\n",
    "atributoSRC = elemntoImg.get_attribute('src')\n",
    "\n",
    "print(atributoSRC)\n",
    "\n",
    "driver.close()"
   ]
  },
  {
   "cell_type": "markdown",
   "id": "0a4bfc8f-37b0-4001-9255-7c671ee71813",
   "metadata": {},
   "source": [
    "# Manipulando Elementos Select"
   ]
  },
  {
   "cell_type": "code",
   "execution_count": 111,
   "id": "79a21ed8-09af-444c-bea0-0daf3d7dca8d",
   "metadata": {},
   "outputs": [],
   "source": [
    "driver = webdriver.Chrome(service=service)\n",
    "driver.get('https://www.imdb.com/title/tt0120338/videogallery/')\n",
    "driver.implicitly_wait(2)\n",
    "time.sleep(5)\n",
    "\n",
    "# Buscar elemento\n",
    "elementoSelect = Select(driver.find_element(By.ID, 'sort-by-selector'))\n",
    "elementoSelect.select_by_value('DURATION')\n",
    "time.sleep(5)\n",
    "\n",
    "driver.close()"
   ]
  },
  {
   "cell_type": "markdown",
   "id": "184c94f3-e55a-4471-8ddf-66357a164655",
   "metadata": {},
   "source": [
    "# Extraindo Dados e Ordenando Valores Crescentes"
   ]
  },
  {
   "cell_type": "code",
   "execution_count": 139,
   "id": "81a6fa1d-8e63-4331-ac01-184e4d9e4b0e",
   "metadata": {},
   "outputs": [
    {
     "name": "stdout",
     "output_type": "stream",
     "text": [
      "\n"
     ]
    }
   ],
   "source": [
    "# RETORNAR AQUI DEPOIS - AULA 15\n",
    "planilha = []\n",
    "linha = []\n",
    "\n",
    "driver = webdriver.Chrome(service=service)\n",
    "driver.get('https://www.melhorcambio.com/euro-hoje')\n",
    "driver.implicitly_wait(2)\n",
    "dado = driver.find_element(By.CLASS_NAME, 'img-active').text\n",
    "print(dado)\n",
    "\n",
    "driver.close()"
   ]
  },
  {
   "cell_type": "markdown",
   "id": "2fc5ca98-e6b1-42c9-9d93-b00ef5a01b11",
   "metadata": {},
   "source": [
    "# Baixando Imagens Presentes nas Páginas"
   ]
  },
  {
   "cell_type": "code",
   "execution_count": 208,
   "id": "6cc23877-729b-450e-8647-c04c0521ce1f",
   "metadata": {},
   "outputs": [
    {
     "name": "stdout",
     "output_type": "stream",
     "text": [
      "<selenium.webdriver.remote.webelement.WebElement (session=\"30cd34cf0312c58b97452ee9a1cdc57e\", element=\"f.337F4A8EB6B1BEF9FF61C6B89FD3611A.d.2FAB41B3F6EDA370CAC72DC35B26767B.e.93\")>\n"
     ]
    }
   ],
   "source": [
    "# RETORNAR AQUI DEPOIS - AULA 16\n",
    "driver = webdriver.Chrome(service=service)\n",
    "driver.get(\"https://www.imdb.com/title/tt0120338/mediaindex?ref_=tt_pv_mi_sm\")\n",
    "driver.implicitly_wait(2)\n",
    "divImagem = driver.find_element(By.XPATH,'//*[@id=\"rm4069242624-img-0\"]//*[@id=\"rm4069242624-img-0\"]')\n",
    "\n",
    "#primeiraImagem = divImagem.find_elements(By.TAG_NAME,'img')[0]\n",
    "print(elemento)\n",
    "\n",
    "driver.close()"
   ]
  },
  {
   "cell_type": "markdown",
   "id": "059cbba9-d97e-4a4b-9d8a-6bf868a2ec82",
   "metadata": {},
   "source": [
    "# Realizando pesquisa e extraindo dados de tabela"
   ]
  },
  {
   "cell_type": "code",
   "execution_count": 211,
   "id": "b950287a-746e-40ac-9654-398acc19e9d0",
   "metadata": {},
   "outputs": [],
   "source": [
    "# RETORNAR AQUI DEPOIS - AULA 17"
   ]
  },
  {
   "cell_type": "markdown",
   "id": "3095e926-d35a-4889-a989-fdd31548839b",
   "metadata": {},
   "source": [
    "# Extraindo Dados Paginados"
   ]
  },
  {
   "cell_type": "code",
   "execution_count": null,
   "id": "f7d059b2-e20f-41dd-a40d-c572bf20bb29",
   "metadata": {},
   "outputs": [],
   "source": [
    "# Ainda n fiz"
   ]
  },
  {
   "cell_type": "markdown",
   "id": "d7119ab5-f76a-465d-8088-7446def1c5ff",
   "metadata": {},
   "source": [
    "# Tirando screenshot das páginas"
   ]
  },
  {
   "cell_type": "code",
   "execution_count": 219,
   "id": "07112504-809c-4211-9886-5c1903a85120",
   "metadata": {},
   "outputs": [],
   "source": [
    "driver = webdriver.Chrome(service=service)\n",
    "driver.get(\"https://www.imdb.com/pt/title/tt0120338/\")\n",
    "driver.implicitly_wait(2)\n",
    "driver.maximize_window()\n",
    "driver.get_screenshot_as_file(r\"C:\\Users\\gabriel.bezerra_koin\\Pictures\\Selenium\\screenshot.png\")\n",
    "time.sleep(3)\n",
    "\n",
    "\n",
    "driver.close()"
   ]
  },
  {
   "cell_type": "markdown",
   "id": "1cb03acb-7321-462e-84af-65f1ef436b08",
   "metadata": {},
   "source": [
    "# Tratamento de Erros"
   ]
  },
  {
   "cell_type": "code",
   "execution_count": 240,
   "id": "9ffb5eef-e6d4-4c0c-8895-28b1b0d1db94",
   "metadata": {},
   "outputs": [
    {
     "name": "stdout",
     "output_type": "stream",
     "text": [
      "4.7 (37)\n"
     ]
    }
   ],
   "source": [
    "driver = webdriver.Chrome(service=service)\n",
    "driver.get(\"https://www.magazineluiza.com.br/samsung-galaxy-s25-ultra-5g-512gb-galaxy-ai-titanio-cinza-69-12gb-ram-cam-quadrupla-200-50-10-50mp-bateria-5000mah-dual-chip/p/238920300/te/galx/\")\n",
    "driver.implicitly_wait(2)\n",
    "driver.maximize_window()\n",
    "time.sleep(2)\n",
    "\n",
    "try:\n",
    "    teste = driver.find_element(By.XPATH, '//*[@id=\"__next\"]/div/main/section[6]/div[2]/div/div[1]/span').text\n",
    "except:\n",
    "    teste = 'Não tem avaliacao'\n",
    "\n",
    "print(teste)\n",
    "\n",
    "driver.close()"
   ]
  },
  {
   "cell_type": "code",
   "execution_count": null,
   "id": "2dbf832e-810a-409b-a74d-445b12cb8f74",
   "metadata": {},
   "outputs": [],
   "source": []
  },
  {
   "cell_type": "code",
   "execution_count": null,
   "id": "f9bd2b0f-3fea-4207-b1d1-0744088cac49",
   "metadata": {},
   "outputs": [],
   "source": []
  },
  {
   "cell_type": "code",
   "execution_count": null,
   "id": "74a97e9c-444c-437e-82c9-ca99d5f75ad5",
   "metadata": {},
   "outputs": [],
   "source": []
  },
  {
   "cell_type": "code",
   "execution_count": null,
   "id": "dc8c21a6-af00-4e54-a65a-222e0e9ffee0",
   "metadata": {},
   "outputs": [],
   "source": []
  },
  {
   "cell_type": "code",
   "execution_count": null,
   "id": "a58a6ad9-f95c-4df2-9ed6-e79ad53885a2",
   "metadata": {},
   "outputs": [],
   "source": []
  },
  {
   "cell_type": "code",
   "execution_count": null,
   "id": "95e6d847-c197-41b0-a8ff-f3d1b4e270f6",
   "metadata": {},
   "outputs": [],
   "source": []
  }
 ],
 "metadata": {
  "kernelspec": {
   "display_name": "Python 3 (ipykernel)",
   "language": "python",
   "name": "python3"
  },
  "language_info": {
   "codemirror_mode": {
    "name": "ipython",
    "version": 3
   },
   "file_extension": ".py",
   "mimetype": "text/x-python",
   "name": "python",
   "nbconvert_exporter": "python",
   "pygments_lexer": "ipython3",
   "version": "3.12.4"
  }
 },
 "nbformat": 4,
 "nbformat_minor": 5
}
